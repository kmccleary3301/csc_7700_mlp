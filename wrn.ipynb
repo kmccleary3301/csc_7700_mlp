{
 "cells": [
  {
   "cell_type": "code",
   "execution_count": 1,
   "metadata": {
    "collapsed": true
   },
   "outputs": [],
   "source": [
    "import torch\n",
    "import torch.nn as nn\n",
    "import torch.optim as optim\n",
    "import torchvision\n",
    "import torchvision.transforms as transforms\n",
    "import matplotlib.pyplot as plt"
   ]
  },
  {
   "cell_type": "code",
   "execution_count": 2,
   "metadata": {},
   "outputs": [],
   "source": [
    "# Add necessary imports\n",
    "import torch.nn.functional as F\n",
    "from torch.optim.lr_scheduler import CosineAnnealingLR, ReduceLROnPlateau\n",
    "import copy\n",
    "import numpy as np\n",
    "from tqdm import tqdm"
   ]
  },
  {
   "cell_type": "code",
   "execution_count": 3,
   "metadata": {},
   "outputs": [
    {
     "data": {
      "text/plain": [
       "<torch._C.Generator at 0x76d3cff17210>"
      ]
     },
     "execution_count": 3,
     "metadata": {},
     "output_type": "execute_result"
    }
   ],
   "source": [
    "# Set our torch seed for perfect reproducibility\n",
    "torch.manual_seed(37718)"
   ]
  },
  {
   "cell_type": "markdown",
   "metadata": {
    "collapsed": false
   },
   "source": [
    "# Download and setup FashionMNIST Dataset"
   ]
  },
  {
   "cell_type": "code",
   "execution_count": 4,
   "metadata": {
    "collapsed": false
   },
   "outputs": [],
   "source": [
    "# this transform will convert data to tensor then standardize the data (precomputed mean and std)\n",
    "train_transform = transforms.Compose([\n",
    "    # transforms.RandomRotation(degrees=20),\n",
    "    transforms.RandomRotation(degrees=10),\n",
    "    transforms.RandomAffine(\n",
    "        degrees=0, \n",
    "        translate=(0.1, 0.1),  # Random shifts up to 10%\n",
    "        scale=(0.9, 1.1),      # Random scaling +/- 10%\n",
    "    ),\n",
    "    # transforms.RandomCrop(28, padding=4),  # Random crops with padding\n",
    "    transforms.RandomHorizontalFlip(),     # Random horizontal flips\n",
    "    transforms.ToTensor(),\n",
    "    transforms.Normalize((0.2860,), (0.3530,)),\n",
    "    transforms.RandomErasing(p=0.2)  # Randomly erase parts of the image\n",
    "])\n",
    "\n",
    "\n",
    "test_transform = transforms.Compose([\n",
    "    transforms.ToTensor(),\n",
    "    transforms.Normalize((0.2860,), (0.3530,))\n",
    "])\n",
    "\n",
    "# download training and testing and apply transform to both\n",
    "training_data = torchvision.datasets.FashionMNIST(root='./data', train=True, download=True, transform=train_transform)\n",
    "testing_data = torchvision.datasets.FashionMNIST(root='./data', train=False, download=True, transform=test_transform)"
   ]
  },
  {
   "cell_type": "code",
   "execution_count": 5,
   "metadata": {
    "collapsed": false
   },
   "outputs": [],
   "source": [
    "# Create data loaders with better batch sizes and workers for performance\n",
    "batch_size = 128\n",
    "trainloader = torch.utils.data.DataLoader(\n",
    "    training_data, \n",
    "    batch_size=batch_size, \n",
    "    shuffle=True, \n",
    "    num_workers=2, \n",
    "    pin_memory=True\n",
    ")\n",
    "testloader = torch.utils.data.DataLoader(\n",
    "    testing_data, \n",
    "    batch_size=batch_size*2, \n",
    "    shuffle=False, \n",
    "    num_workers=2, \n",
    "    pin_memory=True\n",
    ")"
   ]
  },
  {
   "cell_type": "markdown",
   "metadata": {
    "collapsed": false
   },
   "source": [
    "# WideResNet Model Implementation"
   ]
  },
  {
   "cell_type": "code",
   "execution_count": 6,
   "metadata": {},
   "outputs": [],
   "source": [
    "class BasicBlock(nn.Module):\n",
    "    \"\"\"Basic building block for WideResNet\"\"\"\n",
    "    def __init__(self, in_planes, out_planes, stride, dropout_rate=0.0):\n",
    "        super(BasicBlock, self).__init__()\n",
    "        # Batch normalization and first convolution\n",
    "        self.bn1 = nn.BatchNorm2d(in_planes)\n",
    "        self.conv1 = nn.Conv2d(in_planes, out_planes, kernel_size=3, stride=stride, padding=1, bias=False)\n",
    "        \n",
    "        # Batch normalization and second convolution\n",
    "        self.bn2 = nn.BatchNorm2d(out_planes)\n",
    "        self.conv2 = nn.Conv2d(out_planes, out_planes, kernel_size=3, stride=1, padding=1, bias=False)\n",
    "        \n",
    "        # Dropout and skip connection\n",
    "        self.dropout_rate = dropout_rate\n",
    "        self.equalInOut = (in_planes == out_planes)\n",
    "        \n",
    "        # Skip connection - either identity or 1x1 conv to match dimensions\n",
    "        self.shortcut = nn.Sequential()\n",
    "        if not self.equalInOut:\n",
    "            self.shortcut = nn.Conv2d(in_planes, out_planes, kernel_size=1, stride=stride, bias=False)\n",
    "    \n",
    "    def forward(self, x):\n",
    "        # First part of residual function\n",
    "        out = F.relu(self.bn1(x))\n",
    "        \n",
    "        # For skip connections, prepare the input\n",
    "        residual = out if self.equalInOut else x\n",
    "        \n",
    "        # Main path with convolutions\n",
    "        out = self.conv1(out)\n",
    "        out = F.relu(self.bn2(out))\n",
    "        \n",
    "        # Apply dropout if specified\n",
    "        if self.dropout_rate > 0:\n",
    "            out = F.dropout(out, p=self.dropout_rate, training=self.training)\n",
    "            \n",
    "        out = self.conv2(out)\n",
    "        \n",
    "        # Add residual connection\n",
    "        out += self.shortcut(residual)\n",
    "        \n",
    "        return out"
   ]
  },
  {
   "cell_type": "code",
   "execution_count": 7,
   "metadata": {},
   "outputs": [],
   "source": [
    "class WideResNet(nn.Module):\n",
    "    \"\"\"WideResNet model with customizable depth and width\"\"\"\n",
    "    def __init__(self, depth=16, width_factor=8, dropout_rate=0.3, num_classes=10):\n",
    "        super(WideResNet, self).__init__()\n",
    "        \n",
    "        # Determine number of blocks per stage\n",
    "        assert (depth - 4) % 6 == 0, \"Depth must be 6n+4\"\n",
    "        n = (depth - 4) // 6\n",
    "        \n",
    "        # Define number of channels at each stage\n",
    "        channels = [16, 16*width_factor, 32*width_factor, 64*width_factor]\n",
    "        \n",
    "        # Initial convolution\n",
    "        self.conv1 = nn.Conv2d(1, channels[0], kernel_size=3, stride=1, padding=1, bias=False)\n",
    "        \n",
    "        # Create blocks for each stage\n",
    "        self.stage1 = self._make_layer(n, channels[0], channels[1], stride=1, dropout_rate=dropout_rate)\n",
    "        self.stage2 = self._make_layer(n, channels[1], channels[2], stride=2, dropout_rate=dropout_rate)\n",
    "        self.stage3 = self._make_layer(n, channels[2], channels[3], stride=2, dropout_rate=dropout_rate)\n",
    "        \n",
    "        # Final batch norm, pooling and classifier\n",
    "        self.bn = nn.BatchNorm2d(channels[3])\n",
    "        self.fc = nn.Linear(channels[3], num_classes)\n",
    "        \n",
    "        # Initialize weights\n",
    "        self._initialize_weights()\n",
    "        \n",
    "    def _make_layer(self, blocks, in_planes, out_planes, stride, dropout_rate):\n",
    "        layers = []\n",
    "        # First block might change dimensions\n",
    "        layers.append(BasicBlock(in_planes, out_planes, stride, dropout_rate))\n",
    "        \n",
    "        # Remaining blocks keep the same dimensions\n",
    "        for _ in range(1, blocks):\n",
    "            layers.append(BasicBlock(out_planes, out_planes, 1, dropout_rate))\n",
    "            \n",
    "        return nn.Sequential(*layers)\n",
    "    \n",
    "    def _initialize_weights(self):\n",
    "        for m in self.modules():\n",
    "            if isinstance(m, nn.Conv2d):\n",
    "                nn.init.kaiming_normal_(m.weight, mode='fan_out', nonlinearity='relu')\n",
    "            elif isinstance(m, nn.BatchNorm2d):\n",
    "                m.weight.data.fill_(1)\n",
    "                m.bias.data.zero_()\n",
    "            elif isinstance(m, nn.Linear):\n",
    "                nn.init.kaiming_normal_(m.weight, mode='fan_out', nonlinearity='relu')\n",
    "                m.bias.data.zero_()\n",
    "                \n",
    "    def forward(self, x):\n",
    "        # Initial convolution\n",
    "        out = self.conv1(x)\n",
    "        \n",
    "        # Pass through stages\n",
    "        out = self.stage1(out)\n",
    "        out = self.stage2(out)\n",
    "        out = self.stage3(out)\n",
    "        \n",
    "        # Final batch norm and ReLU\n",
    "        out = F.relu(self.bn(out))\n",
    "        \n",
    "        # Global average pooling\n",
    "        out = F.adaptive_avg_pool2d(out, 1)\n",
    "        out = out.view(out.size(0), -1)\n",
    "        \n",
    "        # Classifier\n",
    "        out = self.fc(out)\n",
    "        \n",
    "        return out"
   ]
  },
  {
   "cell_type": "markdown",
   "metadata": {},
   "source": [
    "# Model Training with Best Model Checkpointing"
   ]
  },
  {
   "cell_type": "code",
   "execution_count": 8,
   "metadata": {},
   "outputs": [],
   "source": [
    "def train_model_with_checkpoints(model, trainloader, testloader, epochs=30, lr=0.01):\n",
    "    \"\"\"Train model with checkpoint saving for the best performance\"\"\"\n",
    "    device = torch.device(\"cuda\" if torch.cuda.is_available() else \"cpu\")\n",
    "    model = model.to(device)\n",
    "    \n",
    "    # Loss and optimizer\n",
    "    criterion = nn.CrossEntropyLoss()\n",
    "    optimizer = optim.SGD(model.parameters(), lr=lr, momentum=0.9, weight_decay=5e-4, nesterov=True)\n",
    "    scheduler = ReduceLROnPlateau(optimizer, mode='max', factor=0.5, patience=5, verbose=True)\n",
    "    # scheduler = CosineAnnealingLR(optimizer, T_max=epochs)\n",
    "    \n",
    "    # For tracking metrics\n",
    "    best_acc = 0.0\n",
    "    best_model_wts = copy.deepcopy(model.state_dict())\n",
    "    train_accs = []\n",
    "    test_accs = []\n",
    "    \n",
    "    print(f\"Training on {device}\")\n",
    "    \n",
    "    for epoch in range(epochs):\n",
    "        # Training phase\n",
    "        model.train()\n",
    "        running_loss = 0.0\n",
    "        correct = 0\n",
    "        total = 0\n",
    "        \n",
    "        # Use tqdm for a nice progress bar\n",
    "        train_pbar = tqdm(trainloader, desc=f\"Epoch {epoch+1}/{epochs} [Train]\")\n",
    "        \n",
    "        for images, labels in train_pbar:\n",
    "            images, labels = images.to(device), labels.to(device)\n",
    "            \n",
    "            # Zero the gradients\n",
    "            optimizer.zero_grad()\n",
    "            \n",
    "            # Forward pass\n",
    "            outputs = model(images)\n",
    "            loss = criterion(outputs, labels)\n",
    "            \n",
    "            # Backward pass and optimize\n",
    "            loss.backward()\n",
    "            optimizer.step()\n",
    "            \n",
    "            # Statistics\n",
    "            running_loss += loss.item()\n",
    "            _, predicted = torch.max(outputs, 1)\n",
    "            total += labels.size(0)\n",
    "            correct += (predicted == labels).sum().item()\n",
    "            \n",
    "            train_pbar.set_postfix({\n",
    "                \"loss\": f\"{loss.item():.4f}\", \n",
    "                \"acc\": f\"{100.0 * correct / total:.2f}%\"\n",
    "            })\n",
    "        \n",
    "        # Calculate training accuracy\n",
    "        train_acc = 100 * correct / total\n",
    "        train_accs.append(train_acc)\n",
    "        \n",
    "        # Evaluation phase\n",
    "        model.eval()\n",
    "        correct = 0\n",
    "        total = 0\n",
    "        \n",
    "        test_pbar = tqdm(testloader, desc=f\"Epoch {epoch+1}/{epochs} [Test]\")\n",
    "        \n",
    "        with torch.no_grad():\n",
    "            for images, labels in test_pbar:\n",
    "                images, labels = images.to(device), labels.to(device)\n",
    "                outputs = model(images)\n",
    "                _, predicted = torch.max(outputs, 1)\n",
    "                total += labels.size(0)\n",
    "                correct += (predicted == labels).sum().item()\n",
    "                \n",
    "                test_pbar.set_postfix({\n",
    "                    \"acc\": f\"{100.0 * correct / total:.2f}%\"\n",
    "                })\n",
    "        \n",
    "        # Calculate test accuracy\n",
    "        test_acc = 100 * correct / total\n",
    "        test_accs.append(test_acc)\n",
    "        \n",
    "        # Update learning rate based on validation performance\n",
    "        scheduler.step(test_acc)\n",
    "        \n",
    "        # Print statistics\n",
    "        print(f\"Epoch {epoch+1}/{epochs}\")\n",
    "        print(f\"  Train Loss: {running_loss/len(trainloader):.4f}, Train Acc: {train_acc:.2f}%\")\n",
    "        print(f\"  Test Acc: {test_acc:.2f}%\")\n",
    "        \n",
    "        # Check if this is the best model and save checkpoint\n",
    "        if test_acc > best_acc:\n",
    "            best_acc = test_acc\n",
    "            best_model_wts = copy.deepcopy(model.state_dict())\n",
    "            torch.save({\n",
    "                'epoch': epoch,\n",
    "                'model_state_dict': model.state_dict(),\n",
    "                'optimizer_state_dict': optimizer.state_dict(),\n",
    "                'accuracy': best_acc,\n",
    "            }, 'wrn_fashion_best.pth')\n",
    "            print(f\"  New best accuracy: {best_acc:.2f}% - Saved checkpoint!\")\n",
    "    \n",
    "    # Load the best model weights\n",
    "    model.load_state_dict(best_model_wts)\n",
    "    print(f\"Training complete. Best accuracy: {best_acc:.2f}%\")\n",
    "    \n",
    "    return model, train_accs, test_accs, best_acc"
   ]
  },
  {
   "cell_type": "code",
   "execution_count": 9,
   "metadata": {},
   "outputs": [],
   "source": [
    "def plot_training_results(train_accs, test_accs):\n",
    "    \"\"\"Plot training and testing accuracy over epochs\"\"\"\n",
    "    plt.figure(figsize=(10, 5))\n",
    "    plt.plot(train_accs, label='Training Accuracy')\n",
    "    plt.plot(test_accs, label='Testing Accuracy')\n",
    "    plt.xlabel('Epoch')\n",
    "    plt.ylabel('Accuracy (%)')\n",
    "    plt.title('Model Accuracy over Epochs')\n",
    "    plt.legend()\n",
    "    plt.grid(True)\n",
    "    plt.savefig('wrn_training_results.png')\n",
    "    plt.show()"
   ]
  },
  {
   "cell_type": "markdown",
   "metadata": {},
   "source": [
    "# Create and Train the Model"
   ]
  },
  {
   "cell_type": "code",
   "execution_count": null,
   "metadata": {},
   "outputs": [
    {
     "name": "stdout",
     "output_type": "stream",
     "text": [
      "Model has 8,948,922 parameters\n"
     ]
    }
   ],
   "source": [
    "# Set random seeds for reproducibility\n",
    "torch.manual_seed(42)\n",
    "if torch.cuda.is_available():\n",
    "    torch.cuda.manual_seed(42)\n",
    "np.random.seed(42)\n",
    "\n",
    "# Create a smaller version of WideResNet (reduced depth and width for faster training)\n",
    "model = WideResNet(depth=4, width_factor=4, dropout_rate=0.3, num_classes=10)\n",
    "print(f\"Model has {sum(p.numel() for p in model.parameters() if p.requires_grad):,} parameters\")"
   ]
  },
  {
   "cell_type": "code",
   "execution_count": 11,
   "metadata": {},
   "outputs": [
    {
     "name": "stderr",
     "output_type": "stream",
     "text": [
      "/home/querylake_manager/miniconda3/envs/QL_1/lib/python3.10/site-packages/torch/optim/lr_scheduler.py:62: UserWarning: The verbose parameter is deprecated. Please use get_last_lr() to access the learning rate.\n",
      "  warnings.warn(\n"
     ]
    },
    {
     "name": "stdout",
     "output_type": "stream",
     "text": [
      "Training on cuda\n"
     ]
    },
    {
     "name": "stderr",
     "output_type": "stream",
     "text": [
      "Epoch 1/1 [Train]: 100%|██████████| 469/469 [00:09<00:00, 48.14it/s, loss=0.5758, acc=52.58%]\n",
      "Epoch 1/1 [Test]: 100%|██████████| 40/40 [00:00<00:00, 72.30it/s, acc=69.93%]\n"
     ]
    },
    {
     "name": "stdout",
     "output_type": "stream",
     "text": [
      "Epoch 1/1\n",
      "  Train Loss: 1.3152, Train Acc: 52.58%\n",
      "  Test Acc: 69.93%\n",
      "  New best accuracy: 69.93% - Saved checkpoint!\n",
      "Training complete. Best accuracy: 69.93%\n"
     ]
    }
   ],
   "source": [
    "# Train the model\n",
    "trained_model, train_accs, test_accs, best_acc = train_model_with_checkpoints(\n",
    "    model, trainloader, testloader, epochs=1, lr=0.01\n",
    ")"
   ]
  },
  {
   "cell_type": "code",
   "execution_count": 12,
   "metadata": {},
   "outputs": [
    {
     "data": {
      "image/png": "[encoded data removed]",
      "text/plain": [
       "<Figure size 1000x500 with 1 Axes>"
      ]
     },
     "metadata": {},
     "output_type": "display_data"
    }
   ],
   "source": [
    "# Plot results\n",
    "plot_training_results(train_accs, test_accs)"
   ]
  },
  {
   "cell_type": "code",
   "execution_count": 30,
   "metadata": {},
   "outputs": [
    {
     "name": "stderr",
     "output_type": "stream",
     "text": [
      "/tmp/ipykernel_311017/657403414.py:9: FutureWarning: You are using `torch.load` with `weights_only=False` (the current default value), which uses the default pickle module implicitly. It is possible to construct malicious pickle data which will execute arbitrary code during unpickling (See https://github.com/pytorch/pytorch/blob/main/SECURITY.md#untrusted-models for more details). In a future release, the default value for `weights_only` will be flipped to `True`. This limits the functions that could be executed during unpickling. Arbitrary objects will no longer be allowed to be loaded via this mode unless they are explicitly allowlisted by the user via `torch.serialization.add_safe_globals`. We recommend you start setting `weights_only=True` for any use case where you don't have full control of the loaded file. Please open an issue on GitHub for any issues related to this experimental feature.\n",
      "  checkpoint = torch.load(model_path)\n"
     ]
    },
    {
     "name": "stdout",
     "output_type": "stream",
     "text": [
      "Final Test Accuracy: 95.70%\n"
     ]
    }
   ],
   "source": [
    "def evaluate_best_model(model_path, test_loader):\n",
    "    \"\"\"Load the best model and evaluate it on the test set\"\"\"\n",
    "    device = torch.device(\"cuda\" if torch.cuda.is_available() else \"cpu\")\n",
    "    \n",
    "    # Create a clean model instance\n",
    "    model = WideResNet(depth=40, width_factor=4, dropout_rate=0.0, num_classes=10)\n",
    "    \n",
    "    # Load the saved model weights\n",
    "    checkpoint = torch.load(model_path)\n",
    "    model.load_state_dict(checkpoint['model_state_dict'])\n",
    "    model.to(device)\n",
    "    model.eval()\n",
    "    \n",
    "    # Evaluate\n",
    "    correct = 0\n",
    "    total = 0\n",
    "    all_preds = []\n",
    "    \n",
    "    with torch.no_grad():\n",
    "        for images, labels in test_loader:\n",
    "            images, labels = images.to(device), labels.to(device)\n",
    "            outputs = model(images)\n",
    "            _, predicted = torch.max(outputs, 1)\n",
    "            total += labels.size(0)\n",
    "            correct += (predicted == labels).sum().item()\n",
    "            all_preds.extend(predicted.cpu().numpy())\n",
    "    \n",
    "    accuracy = 100 * correct / total\n",
    "    print(f\"Final Test Accuracy: {accuracy:.2f}%\")\n",
    "    return all_preds, accuracy\n",
    "\n",
    "# Evaluate the best model\n",
    "# Uncomment to run\n",
    "predictions, final_acc = evaluate_best_model('wrn_fashion_best_overnight.pth', testloader)"
   ]
  },
  {
   "cell_type": "code",
   "execution_count": 31,
   "metadata": {
    "collapsed": false
   },
   "outputs": [],
   "source": [
    "# Save predictions for submission\n",
    "import json\n",
    "\n",
    "submission_data = {\"name\": \"Kyle McCleary\", \"predictions\": [int(x) for x in predictions]}\n",
    "with open(\"submission.json\", \"w\") as f:\n",
    "\tjson.dump(submission_data, f)"
   ]
  },
  {
   "cell_type": "code",
   "execution_count": 32,
   "metadata": {
    "collapsed": false
   },
   "outputs": [],
   "source": [
    "# Save trained model\n",
    "torch.save(trained_model.state_dict(), \"wrn_model.pth\")"
   ]
  },
  {
   "cell_type": "code",
   "execution_count": null,
   "metadata": {
    "collapsed": false
   },
   "outputs": [
    {
     "name": "stdout",
     "output_type": "stream",
     "text": [
      "{'message': 'Submission received. Accuracy: 95.70%'}\n"
     ]
    }
   ],
   "source": [
    "# import requests\n",
    "# # Send results - comment out if not needed\n",
    "\n",
    "# data = {\n",
    "#     \"name\": \"I copied this from Kyle McCleary\",\n",
    "#     \"predictions\": predictions.tolist() if isinstance(predictions, np.ndarray) else predictions\n",
    "# }\n",
    "# response = requests.post(\"https://csc7700leaderboard-d4fce9d9h2b5h8ab.centralus-01.azurewebsites.net/submit\", json=data)\n",
    "# response.raise_for_status()\n",
    "# print(response.json())\n"
   ]
  }
 ],
 "metadata": {
  "kernelspec": {
   "display_name": "QL_1",
   "language": "python",
   "name": "python3"
  },
  "language_info": {
   "codemirror_mode": {
    "name": "ipython",
    "version": 3
   },
   "file_extension": ".py",
   "mimetype": "text/x-python",
   "name": "python",
   "nbconvert_exporter": "python",
   "pygments_lexer": "ipython3",
   "version": "3.10.14"
  }
 },
 "nbformat": 4,
 "nbformat_minor": 0
}
